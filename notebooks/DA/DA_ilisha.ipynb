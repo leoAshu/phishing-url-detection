{
 "cells": [
  {
   "cell_type": "code",
   "execution_count": null,
   "metadata": {},
   "outputs": [],
   "source": [
    "import warnings\n",
    "warnings.simplefilter(action='ignore', category=FutureWarning)\n",
    "import pandas as pd\n",
    "import matplotlib.pyplot as plt\n",
    "import seaborn as sns\n",
    "sns.set_style(\"redgrid\")\n",
    "\n",
    "data = pd.read_csv('C:\\\\Users\\\\IlishaAggarwal\\\\Desktop\\\\data.csv')\n",
    "\n",
    "data.shape\n",
    "\n",
    "# distribution of datapoints according to labels\n",
    "print(data['Sentiment'].value_counts())\n",
    "\n",
    "# plotting the class distribution after droping duplicates\n",
    "plt.figure(dpi=110)\n",
    "chart = sns.countplot(x=\"Sentiment\", data=data, palette=\"Set2\")\n",
    "axes = chart.axes\n",
    "axes.set_title('Class_Circulation')\n",
    "axes.set_xlabel('Sentiment')\n",
    "plt.show()\n",
    "\n",
    "# finding duplicates, extracting indices and printing\n",
    "data[data['Sentence'].duplicated()]\n",
    "duplicate_indices = data[data['Sentence'].duplicated()].index.to_list()\n",
    "for index in duplicate_indices:\n",
    "    print(data[data['Sentence'] == data['Sentence'].loc[index]])\n",
    "    print()\n",
    "\n",
    "# dropping the duplicate sentences with \"neutral\" sentiment\n",
    "for index in duplicate_indices:\n",
    "    temp = data[data['Sentence'] == data['Sentence'].loc[index]]\n",
    "    dup_idx = temp[temp['Sentiment'] == 'neutral'].index[0]\n",
    "    data = data.drop(index=dup_idx)\n",
    "\n",
    "data.reset_index()\n",
    "\n",
    "# plotting the class distribution after droping duplicates\n",
    "plt.figure(dpi=110)\n",
    "chart = sns.countplot(x=\"Sentiment\", data=data, palette=\"Set2\")\n",
    "axes = chart.axes\n",
    "axes.set_title('Class Distribution - Updated')\n",
    "axes.set_xlabel('Sentiment')\n",
    "plt.show()\n",
    "\n",
    "data.to_csv('C:\\\\Users\\\\Checkout\\\\Desktop\\\\data.csv', index=False)\n",
    "\n"
   ]
  }
 ],
 "metadata": {
  "language_info": {
   "name": "python"
  },
  "orig_nbformat": 4
 },
 "nbformat": 4,
 "nbformat_minor": 2
}
