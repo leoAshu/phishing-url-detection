{
 "cells": [
  {
   "cell_type": "code",
   "execution_count": 1,
   "id": "08efc7ed",
   "metadata": {
    "id": "08efc7ed"
   },
   "outputs": [],
   "source": [
    "import warnings\n",
    "warnings.filterwarnings('ignore')"
   ]
  },
  {
   "cell_type": "code",
   "execution_count": 2,
   "id": "89e16570",
   "metadata": {
    "id": "89e16570"
   },
   "outputs": [],
   "source": [
    "# import required packages\n",
    "import pandas as pd\n",
    "import numpy as np\n",
    "\n",
    "# preprocessing\n",
    "from sklearn.preprocessing import StandardScaler\n",
    "from sklearn.model_selection import train_test_split\n",
    "\n",
    "# models\n",
    "from xgboost import XGBClassifier\n",
    "from sklearn.svm import LinearSVC\n",
    "from sklearn.naive_bayes import GaussianNB\n",
    "from sklearn.linear_model import LogisticRegression\n",
    "\n",
    "# metrics\n",
    "import time\n",
    "from sklearn.metrics import accuracy_score, confusion_matrix, f1_score\n",
    "from sklearn.metrics import recall_score, roc_auc_score\n",
    "\n",
    "# plots\n",
    "import matplotlib.pyplot as plt\n",
    "import seaborn as sns\n",
    "sns.set_style('whitegrid')"
   ]
  },
  {
   "cell_type": "code",
   "execution_count": 3,
   "id": "5da301cb",
   "metadata": {
    "colab": {
     "base_uri": "https://localhost:8080/",
     "height": 317
    },
    "id": "5da301cb",
    "outputId": "8ae04480-182e-460f-9c63-b8a6d8e6e44a"
   },
   "outputs": [
    {
     "data": {
      "text/plain": [
       "(88647, 112)"
      ]
     },
     "metadata": {},
     "output_type": "display_data"
    },
    {
     "data": {
      "text/html": [
       "<div>\n",
       "<style scoped>\n",
       "    .dataframe tbody tr th:only-of-type {\n",
       "        vertical-align: middle;\n",
       "    }\n",
       "\n",
       "    .dataframe tbody tr th {\n",
       "        vertical-align: top;\n",
       "    }\n",
       "\n",
       "    .dataframe thead th {\n",
       "        text-align: right;\n",
       "    }\n",
       "</style>\n",
       "<table border=\"1\" class=\"dataframe\">\n",
       "  <thead>\n",
       "    <tr style=\"text-align: right;\">\n",
       "      <th></th>\n",
       "      <th>qty_dot_url</th>\n",
       "      <th>qty_hyphen_url</th>\n",
       "      <th>qty_underline_url</th>\n",
       "      <th>qty_slash_url</th>\n",
       "      <th>qty_questionmark_url</th>\n",
       "      <th>qty_equal_url</th>\n",
       "      <th>qty_at_url</th>\n",
       "      <th>qty_and_url</th>\n",
       "      <th>qty_exclamation_url</th>\n",
       "      <th>qty_space_url</th>\n",
       "      <th>...</th>\n",
       "      <th>qty_ip_resolved</th>\n",
       "      <th>qty_nameservers</th>\n",
       "      <th>qty_mx_servers</th>\n",
       "      <th>ttl_hostname</th>\n",
       "      <th>tls_ssl_certificate</th>\n",
       "      <th>qty_redirects</th>\n",
       "      <th>url_google_index</th>\n",
       "      <th>domain_google_index</th>\n",
       "      <th>url_shortened</th>\n",
       "      <th>phishing</th>\n",
       "    </tr>\n",
       "  </thead>\n",
       "  <tbody>\n",
       "    <tr>\n",
       "      <th>0</th>\n",
       "      <td>3</td>\n",
       "      <td>0</td>\n",
       "      <td>0</td>\n",
       "      <td>1</td>\n",
       "      <td>0</td>\n",
       "      <td>0</td>\n",
       "      <td>0</td>\n",
       "      <td>0</td>\n",
       "      <td>0</td>\n",
       "      <td>0</td>\n",
       "      <td>...</td>\n",
       "      <td>1</td>\n",
       "      <td>2</td>\n",
       "      <td>0</td>\n",
       "      <td>892</td>\n",
       "      <td>0</td>\n",
       "      <td>0</td>\n",
       "      <td>0</td>\n",
       "      <td>0</td>\n",
       "      <td>0</td>\n",
       "      <td>1</td>\n",
       "    </tr>\n",
       "    <tr>\n",
       "      <th>1</th>\n",
       "      <td>5</td>\n",
       "      <td>0</td>\n",
       "      <td>1</td>\n",
       "      <td>3</td>\n",
       "      <td>0</td>\n",
       "      <td>3</td>\n",
       "      <td>0</td>\n",
       "      <td>2</td>\n",
       "      <td>0</td>\n",
       "      <td>0</td>\n",
       "      <td>...</td>\n",
       "      <td>1</td>\n",
       "      <td>2</td>\n",
       "      <td>1</td>\n",
       "      <td>9540</td>\n",
       "      <td>1</td>\n",
       "      <td>0</td>\n",
       "      <td>0</td>\n",
       "      <td>0</td>\n",
       "      <td>0</td>\n",
       "      <td>1</td>\n",
       "    </tr>\n",
       "    <tr>\n",
       "      <th>2</th>\n",
       "      <td>2</td>\n",
       "      <td>0</td>\n",
       "      <td>0</td>\n",
       "      <td>1</td>\n",
       "      <td>0</td>\n",
       "      <td>0</td>\n",
       "      <td>0</td>\n",
       "      <td>0</td>\n",
       "      <td>0</td>\n",
       "      <td>0</td>\n",
       "      <td>...</td>\n",
       "      <td>1</td>\n",
       "      <td>2</td>\n",
       "      <td>3</td>\n",
       "      <td>589</td>\n",
       "      <td>1</td>\n",
       "      <td>0</td>\n",
       "      <td>0</td>\n",
       "      <td>0</td>\n",
       "      <td>0</td>\n",
       "      <td>0</td>\n",
       "    </tr>\n",
       "    <tr>\n",
       "      <th>3</th>\n",
       "      <td>4</td>\n",
       "      <td>0</td>\n",
       "      <td>2</td>\n",
       "      <td>5</td>\n",
       "      <td>0</td>\n",
       "      <td>0</td>\n",
       "      <td>0</td>\n",
       "      <td>0</td>\n",
       "      <td>0</td>\n",
       "      <td>0</td>\n",
       "      <td>...</td>\n",
       "      <td>1</td>\n",
       "      <td>2</td>\n",
       "      <td>0</td>\n",
       "      <td>292</td>\n",
       "      <td>1</td>\n",
       "      <td>0</td>\n",
       "      <td>0</td>\n",
       "      <td>0</td>\n",
       "      <td>0</td>\n",
       "      <td>1</td>\n",
       "    </tr>\n",
       "    <tr>\n",
       "      <th>4</th>\n",
       "      <td>2</td>\n",
       "      <td>0</td>\n",
       "      <td>0</td>\n",
       "      <td>0</td>\n",
       "      <td>0</td>\n",
       "      <td>0</td>\n",
       "      <td>0</td>\n",
       "      <td>0</td>\n",
       "      <td>0</td>\n",
       "      <td>0</td>\n",
       "      <td>...</td>\n",
       "      <td>1</td>\n",
       "      <td>2</td>\n",
       "      <td>1</td>\n",
       "      <td>3597</td>\n",
       "      <td>0</td>\n",
       "      <td>1</td>\n",
       "      <td>0</td>\n",
       "      <td>0</td>\n",
       "      <td>0</td>\n",
       "      <td>0</td>\n",
       "    </tr>\n",
       "  </tbody>\n",
       "</table>\n",
       "<p>5 rows × 112 columns</p>\n",
       "</div>"
      ],
      "text/plain": [
       "   qty_dot_url  qty_hyphen_url  qty_underline_url  qty_slash_url  \\\n",
       "0            3               0                  0              1   \n",
       "1            5               0                  1              3   \n",
       "2            2               0                  0              1   \n",
       "3            4               0                  2              5   \n",
       "4            2               0                  0              0   \n",
       "\n",
       "   qty_questionmark_url  qty_equal_url  qty_at_url  qty_and_url  \\\n",
       "0                     0              0           0            0   \n",
       "1                     0              3           0            2   \n",
       "2                     0              0           0            0   \n",
       "3                     0              0           0            0   \n",
       "4                     0              0           0            0   \n",
       "\n",
       "   qty_exclamation_url  qty_space_url  ...  qty_ip_resolved  qty_nameservers  \\\n",
       "0                    0              0  ...                1                2   \n",
       "1                    0              0  ...                1                2   \n",
       "2                    0              0  ...                1                2   \n",
       "3                    0              0  ...                1                2   \n",
       "4                    0              0  ...                1                2   \n",
       "\n",
       "   qty_mx_servers  ttl_hostname  tls_ssl_certificate  qty_redirects  \\\n",
       "0               0           892                    0              0   \n",
       "1               1          9540                    1              0   \n",
       "2               3           589                    1              0   \n",
       "3               0           292                    1              0   \n",
       "4               1          3597                    0              1   \n",
       "\n",
       "   url_google_index  domain_google_index  url_shortened  phishing  \n",
       "0                 0                    0              0         1  \n",
       "1                 0                    0              0         1  \n",
       "2                 0                    0              0         0  \n",
       "3                 0                    0              0         1  \n",
       "4                 0                    0              0         0  \n",
       "\n",
       "[5 rows x 112 columns]"
      ]
     },
     "execution_count": 3,
     "metadata": {},
     "output_type": "execute_result"
    }
   ],
   "source": [
    "# load dataset into dataframe\n",
    "df = pd.read_csv('../data/data.csv')\n",
    "\n",
    "# dataset shape: (rows, columns)\n",
    "display(df.shape)\n",
    "\n",
    "# first 5 datapoints\n",
    "df.head()"
   ]
  },
  {
   "cell_type": "code",
   "execution_count": 4,
   "id": "a4cf82e4",
   "metadata": {
    "colab": {
     "base_uri": "https://localhost:8080/",
     "height": 394
    },
    "id": "a4cf82e4",
    "outputId": "23276c40-f0c9-45a8-ffcf-6ea5baa82b56"
   },
   "outputs": [
    {
     "data": {
      "text/html": [
       "<div>\n",
       "<style scoped>\n",
       "    .dataframe tbody tr th:only-of-type {\n",
       "        vertical-align: middle;\n",
       "    }\n",
       "\n",
       "    .dataframe tbody tr th {\n",
       "        vertical-align: top;\n",
       "    }\n",
       "\n",
       "    .dataframe thead th {\n",
       "        text-align: right;\n",
       "    }\n",
       "</style>\n",
       "<table border=\"1\" class=\"dataframe\">\n",
       "  <thead>\n",
       "    <tr style=\"text-align: right;\">\n",
       "      <th></th>\n",
       "      <th>qty_dot_url</th>\n",
       "      <th>qty_hyphen_url</th>\n",
       "      <th>qty_underline_url</th>\n",
       "      <th>qty_slash_url</th>\n",
       "      <th>qty_questionmark_url</th>\n",
       "      <th>qty_equal_url</th>\n",
       "      <th>qty_at_url</th>\n",
       "      <th>qty_and_url</th>\n",
       "      <th>qty_exclamation_url</th>\n",
       "      <th>qty_space_url</th>\n",
       "      <th>...</th>\n",
       "      <th>qty_ip_resolved</th>\n",
       "      <th>qty_nameservers</th>\n",
       "      <th>qty_mx_servers</th>\n",
       "      <th>ttl_hostname</th>\n",
       "      <th>tls_ssl_certificate</th>\n",
       "      <th>qty_redirects</th>\n",
       "      <th>url_google_index</th>\n",
       "      <th>domain_google_index</th>\n",
       "      <th>url_shortened</th>\n",
       "      <th>phishing</th>\n",
       "    </tr>\n",
       "  </thead>\n",
       "  <tbody>\n",
       "    <tr>\n",
       "      <th>count</th>\n",
       "      <td>88647.000000</td>\n",
       "      <td>88647.000000</td>\n",
       "      <td>88647.000000</td>\n",
       "      <td>88647.000000</td>\n",
       "      <td>88647.000000</td>\n",
       "      <td>88647.000000</td>\n",
       "      <td>88647.000000</td>\n",
       "      <td>88647.000000</td>\n",
       "      <td>88647.000000</td>\n",
       "      <td>88647.000000</td>\n",
       "      <td>...</td>\n",
       "      <td>88647.000000</td>\n",
       "      <td>88647.000000</td>\n",
       "      <td>88647.000000</td>\n",
       "      <td>88647.000000</td>\n",
       "      <td>88647.000000</td>\n",
       "      <td>88647.000000</td>\n",
       "      <td>88647.00000</td>\n",
       "      <td>88647.000000</td>\n",
       "      <td>88647.000000</td>\n",
       "      <td>88647.000000</td>\n",
       "    </tr>\n",
       "    <tr>\n",
       "      <th>mean</th>\n",
       "      <td>2.191343</td>\n",
       "      <td>0.328810</td>\n",
       "      <td>0.113879</td>\n",
       "      <td>1.281781</td>\n",
       "      <td>0.009329</td>\n",
       "      <td>0.205861</td>\n",
       "      <td>0.022133</td>\n",
       "      <td>0.140885</td>\n",
       "      <td>0.002944</td>\n",
       "      <td>0.001015</td>\n",
       "      <td>...</td>\n",
       "      <td>1.136564</td>\n",
       "      <td>2.772412</td>\n",
       "      <td>1.742428</td>\n",
       "      <td>6159.877514</td>\n",
       "      <td>0.506447</td>\n",
       "      <td>0.343903</td>\n",
       "      <td>0.00141</td>\n",
       "      <td>0.002019</td>\n",
       "      <td>0.005482</td>\n",
       "      <td>0.345720</td>\n",
       "    </tr>\n",
       "    <tr>\n",
       "      <th>std</th>\n",
       "      <td>1.235636</td>\n",
       "      <td>1.119286</td>\n",
       "      <td>0.657767</td>\n",
       "      <td>1.893929</td>\n",
       "      <td>0.112568</td>\n",
       "      <td>0.954272</td>\n",
       "      <td>0.279652</td>\n",
       "      <td>0.924864</td>\n",
       "      <td>0.087341</td>\n",
       "      <td>0.072653</td>\n",
       "      <td>...</td>\n",
       "      <td>0.895146</td>\n",
       "      <td>1.322999</td>\n",
       "      <td>1.706705</td>\n",
       "      <td>11465.583810</td>\n",
       "      <td>0.499961</td>\n",
       "      <td>0.783892</td>\n",
       "      <td>0.05864</td>\n",
       "      <td>0.063250</td>\n",
       "      <td>0.073841</td>\n",
       "      <td>0.475605</td>\n",
       "    </tr>\n",
       "    <tr>\n",
       "      <th>min</th>\n",
       "      <td>1.000000</td>\n",
       "      <td>0.000000</td>\n",
       "      <td>0.000000</td>\n",
       "      <td>0.000000</td>\n",
       "      <td>0.000000</td>\n",
       "      <td>0.000000</td>\n",
       "      <td>0.000000</td>\n",
       "      <td>0.000000</td>\n",
       "      <td>0.000000</td>\n",
       "      <td>0.000000</td>\n",
       "      <td>...</td>\n",
       "      <td>-1.000000</td>\n",
       "      <td>0.000000</td>\n",
       "      <td>0.000000</td>\n",
       "      <td>-1.000000</td>\n",
       "      <td>0.000000</td>\n",
       "      <td>-1.000000</td>\n",
       "      <td>-1.00000</td>\n",
       "      <td>-1.000000</td>\n",
       "      <td>0.000000</td>\n",
       "      <td>0.000000</td>\n",
       "    </tr>\n",
       "    <tr>\n",
       "      <th>25%</th>\n",
       "      <td>2.000000</td>\n",
       "      <td>0.000000</td>\n",
       "      <td>0.000000</td>\n",
       "      <td>0.000000</td>\n",
       "      <td>0.000000</td>\n",
       "      <td>0.000000</td>\n",
       "      <td>0.000000</td>\n",
       "      <td>0.000000</td>\n",
       "      <td>0.000000</td>\n",
       "      <td>0.000000</td>\n",
       "      <td>...</td>\n",
       "      <td>1.000000</td>\n",
       "      <td>2.000000</td>\n",
       "      <td>1.000000</td>\n",
       "      <td>292.000000</td>\n",
       "      <td>0.000000</td>\n",
       "      <td>0.000000</td>\n",
       "      <td>0.00000</td>\n",
       "      <td>0.000000</td>\n",
       "      <td>0.000000</td>\n",
       "      <td>0.000000</td>\n",
       "    </tr>\n",
       "    <tr>\n",
       "      <th>50%</th>\n",
       "      <td>2.000000</td>\n",
       "      <td>0.000000</td>\n",
       "      <td>0.000000</td>\n",
       "      <td>0.000000</td>\n",
       "      <td>0.000000</td>\n",
       "      <td>0.000000</td>\n",
       "      <td>0.000000</td>\n",
       "      <td>0.000000</td>\n",
       "      <td>0.000000</td>\n",
       "      <td>0.000000</td>\n",
       "      <td>...</td>\n",
       "      <td>1.000000</td>\n",
       "      <td>2.000000</td>\n",
       "      <td>1.000000</td>\n",
       "      <td>2029.000000</td>\n",
       "      <td>1.000000</td>\n",
       "      <td>0.000000</td>\n",
       "      <td>0.00000</td>\n",
       "      <td>0.000000</td>\n",
       "      <td>0.000000</td>\n",
       "      <td>0.000000</td>\n",
       "    </tr>\n",
       "    <tr>\n",
       "      <th>75%</th>\n",
       "      <td>2.000000</td>\n",
       "      <td>0.000000</td>\n",
       "      <td>0.000000</td>\n",
       "      <td>2.000000</td>\n",
       "      <td>0.000000</td>\n",
       "      <td>0.000000</td>\n",
       "      <td>0.000000</td>\n",
       "      <td>0.000000</td>\n",
       "      <td>0.000000</td>\n",
       "      <td>0.000000</td>\n",
       "      <td>...</td>\n",
       "      <td>1.000000</td>\n",
       "      <td>4.000000</td>\n",
       "      <td>2.000000</td>\n",
       "      <td>10798.000000</td>\n",
       "      <td>1.000000</td>\n",
       "      <td>1.000000</td>\n",
       "      <td>0.00000</td>\n",
       "      <td>0.000000</td>\n",
       "      <td>0.000000</td>\n",
       "      <td>1.000000</td>\n",
       "    </tr>\n",
       "    <tr>\n",
       "      <th>max</th>\n",
       "      <td>24.000000</td>\n",
       "      <td>35.000000</td>\n",
       "      <td>21.000000</td>\n",
       "      <td>44.000000</td>\n",
       "      <td>9.000000</td>\n",
       "      <td>23.000000</td>\n",
       "      <td>43.000000</td>\n",
       "      <td>26.000000</td>\n",
       "      <td>10.000000</td>\n",
       "      <td>9.000000</td>\n",
       "      <td>...</td>\n",
       "      <td>24.000000</td>\n",
       "      <td>20.000000</td>\n",
       "      <td>20.000000</td>\n",
       "      <td>604800.000000</td>\n",
       "      <td>1.000000</td>\n",
       "      <td>17.000000</td>\n",
       "      <td>1.00000</td>\n",
       "      <td>1.000000</td>\n",
       "      <td>1.000000</td>\n",
       "      <td>1.000000</td>\n",
       "    </tr>\n",
       "  </tbody>\n",
       "</table>\n",
       "<p>8 rows × 112 columns</p>\n",
       "</div>"
      ],
      "text/plain": [
       "        qty_dot_url  qty_hyphen_url  qty_underline_url  qty_slash_url  \\\n",
       "count  88647.000000    88647.000000       88647.000000   88647.000000   \n",
       "mean       2.191343        0.328810           0.113879       1.281781   \n",
       "std        1.235636        1.119286           0.657767       1.893929   \n",
       "min        1.000000        0.000000           0.000000       0.000000   \n",
       "25%        2.000000        0.000000           0.000000       0.000000   \n",
       "50%        2.000000        0.000000           0.000000       0.000000   \n",
       "75%        2.000000        0.000000           0.000000       2.000000   \n",
       "max       24.000000       35.000000          21.000000      44.000000   \n",
       "\n",
       "       qty_questionmark_url  qty_equal_url    qty_at_url   qty_and_url  \\\n",
       "count          88647.000000   88647.000000  88647.000000  88647.000000   \n",
       "mean               0.009329       0.205861      0.022133      0.140885   \n",
       "std                0.112568       0.954272      0.279652      0.924864   \n",
       "min                0.000000       0.000000      0.000000      0.000000   \n",
       "25%                0.000000       0.000000      0.000000      0.000000   \n",
       "50%                0.000000       0.000000      0.000000      0.000000   \n",
       "75%                0.000000       0.000000      0.000000      0.000000   \n",
       "max                9.000000      23.000000     43.000000     26.000000   \n",
       "\n",
       "       qty_exclamation_url  qty_space_url  ...  qty_ip_resolved  \\\n",
       "count         88647.000000   88647.000000  ...     88647.000000   \n",
       "mean              0.002944       0.001015  ...         1.136564   \n",
       "std               0.087341       0.072653  ...         0.895146   \n",
       "min               0.000000       0.000000  ...        -1.000000   \n",
       "25%               0.000000       0.000000  ...         1.000000   \n",
       "50%               0.000000       0.000000  ...         1.000000   \n",
       "75%               0.000000       0.000000  ...         1.000000   \n",
       "max              10.000000       9.000000  ...        24.000000   \n",
       "\n",
       "       qty_nameservers  qty_mx_servers   ttl_hostname  tls_ssl_certificate  \\\n",
       "count     88647.000000    88647.000000   88647.000000         88647.000000   \n",
       "mean          2.772412        1.742428    6159.877514             0.506447   \n",
       "std           1.322999        1.706705   11465.583810             0.499961   \n",
       "min           0.000000        0.000000      -1.000000             0.000000   \n",
       "25%           2.000000        1.000000     292.000000             0.000000   \n",
       "50%           2.000000        1.000000    2029.000000             1.000000   \n",
       "75%           4.000000        2.000000   10798.000000             1.000000   \n",
       "max          20.000000       20.000000  604800.000000             1.000000   \n",
       "\n",
       "       qty_redirects  url_google_index  domain_google_index  url_shortened  \\\n",
       "count   88647.000000       88647.00000         88647.000000   88647.000000   \n",
       "mean        0.343903           0.00141             0.002019       0.005482   \n",
       "std         0.783892           0.05864             0.063250       0.073841   \n",
       "min        -1.000000          -1.00000            -1.000000       0.000000   \n",
       "25%         0.000000           0.00000             0.000000       0.000000   \n",
       "50%         0.000000           0.00000             0.000000       0.000000   \n",
       "75%         1.000000           0.00000             0.000000       0.000000   \n",
       "max        17.000000           1.00000             1.000000       1.000000   \n",
       "\n",
       "           phishing  \n",
       "count  88647.000000  \n",
       "mean       0.345720  \n",
       "std        0.475605  \n",
       "min        0.000000  \n",
       "25%        0.000000  \n",
       "50%        0.000000  \n",
       "75%        1.000000  \n",
       "max        1.000000  \n",
       "\n",
       "[8 rows x 112 columns]"
      ]
     },
     "execution_count": 4,
     "metadata": {},
     "output_type": "execute_result"
    }
   ],
   "source": [
    "# describe the dataset\n",
    "# statistical description of each feature\n",
    "df.describe()"
   ]
  },
  {
   "cell_type": "code",
   "execution_count": 5,
   "id": "24319ef2",
   "metadata": {
    "colab": {
     "base_uri": "https://localhost:8080/",
     "height": 174
    },
    "id": "24319ef2",
    "outputId": "97da2710-c7b6-4229-8e70-2c4ed91001f1"
   },
   "outputs": [
    {
     "data": {
      "text/html": [
       "<div>\n",
       "<style scoped>\n",
       "    .dataframe tbody tr th:only-of-type {\n",
       "        vertical-align: middle;\n",
       "    }\n",
       "\n",
       "    .dataframe tbody tr th {\n",
       "        vertical-align: top;\n",
       "    }\n",
       "\n",
       "    .dataframe thead th {\n",
       "        text-align: right;\n",
       "    }\n",
       "</style>\n",
       "<table border=\"1\" class=\"dataframe\">\n",
       "  <thead>\n",
       "    <tr style=\"text-align: right;\">\n",
       "      <th></th>\n",
       "      <th>qty_dot_url</th>\n",
       "      <th>qty_hyphen_url</th>\n",
       "      <th>qty_underline_url</th>\n",
       "      <th>qty_slash_url</th>\n",
       "      <th>qty_questionmark_url</th>\n",
       "      <th>qty_equal_url</th>\n",
       "      <th>qty_at_url</th>\n",
       "      <th>qty_and_url</th>\n",
       "      <th>qty_exclamation_url</th>\n",
       "      <th>qty_space_url</th>\n",
       "      <th>...</th>\n",
       "      <th>qty_ip_resolved</th>\n",
       "      <th>qty_nameservers</th>\n",
       "      <th>qty_mx_servers</th>\n",
       "      <th>ttl_hostname</th>\n",
       "      <th>tls_ssl_certificate</th>\n",
       "      <th>qty_redirects</th>\n",
       "      <th>url_google_index</th>\n",
       "      <th>domain_google_index</th>\n",
       "      <th>url_shortened</th>\n",
       "      <th>phishing</th>\n",
       "    </tr>\n",
       "  </thead>\n",
       "  <tbody>\n",
       "    <tr>\n",
       "      <th>0</th>\n",
       "      <td>0</td>\n",
       "      <td>0</td>\n",
       "      <td>0</td>\n",
       "      <td>0</td>\n",
       "      <td>0</td>\n",
       "      <td>0</td>\n",
       "      <td>0</td>\n",
       "      <td>0</td>\n",
       "      <td>0</td>\n",
       "      <td>0</td>\n",
       "      <td>...</td>\n",
       "      <td>0</td>\n",
       "      <td>0</td>\n",
       "      <td>0</td>\n",
       "      <td>0</td>\n",
       "      <td>0</td>\n",
       "      <td>0</td>\n",
       "      <td>0</td>\n",
       "      <td>0</td>\n",
       "      <td>0</td>\n",
       "      <td>0</td>\n",
       "    </tr>\n",
       "  </tbody>\n",
       "</table>\n",
       "<p>1 rows × 112 columns</p>\n",
       "</div>"
      ],
      "text/plain": [
       "   qty_dot_url  qty_hyphen_url  qty_underline_url  qty_slash_url  \\\n",
       "0            0               0                  0              0   \n",
       "\n",
       "   qty_questionmark_url  qty_equal_url  qty_at_url  qty_and_url  \\\n",
       "0                     0              0           0            0   \n",
       "\n",
       "   qty_exclamation_url  qty_space_url  ...  qty_ip_resolved  qty_nameservers  \\\n",
       "0                    0              0  ...                0                0   \n",
       "\n",
       "   qty_mx_servers  ttl_hostname  tls_ssl_certificate  qty_redirects  \\\n",
       "0               0             0                    0              0   \n",
       "\n",
       "   url_google_index  domain_google_index  url_shortened  phishing  \n",
       "0                 0                    0              0         0  \n",
       "\n",
       "[1 rows x 112 columns]"
      ]
     },
     "execution_count": 5,
     "metadata": {},
     "output_type": "execute_result"
    }
   ],
   "source": [
    "# null value counts\n",
    "# no null values in any column\n",
    "pd.DataFrame(np.asarray(df.isnull().sum()).reshape(-1, 112), columns=df.columns)"
   ]
  },
  {
   "cell_type": "code",
   "execution_count": 6,
   "id": "619acacf",
   "metadata": {
    "colab": {
     "base_uri": "https://localhost:8080/",
     "height": 493
    },
    "id": "619acacf",
    "outputId": "5a11e5e5-c643-483a-962d-e8d1144aa12d"
   },
   "outputs": [
    {
     "name": "stdout",
     "output_type": "stream",
     "text": [
      "0    58000\n",
      "1    30647\n",
      "Name: phishing, dtype: int64\n"
     ]
    },
    {
     "data": {
      "image/png": "[encoded data removed]",
      "text/plain": [
       "<Figure size 660x440 with 1 Axes>"
      ]
     },
     "metadata": {},
     "output_type": "display_data"
    }
   ],
   "source": [
    "# class distribution\n",
    "print(df['phishing'].value_counts())\n",
    "\n",
    "# plot the class distribution\n",
    "plt.figure(dpi=110)\n",
    "\n",
    "chart = sns.countplot(x='phishing', data=df, hue='phishing', dodge=False, palette='Set2')\n",
    "\n",
    "axes = chart.axes\n",
    "axes.set_title('Class Distribution')\n",
    "axes.set_xlabel('Phishing')\n",
    "axes.legend(['No', 'Yes'], title='Phishing')\n",
    "\n",
    "plt.show()"
   ]
  },
  {
   "cell_type": "code",
   "execution_count": 7,
   "id": "91f5a9a5",
   "metadata": {
    "colab": {
     "base_uri": "https://localhost:8080/"
    },
    "id": "91f5a9a5",
    "outputId": "36323251-b42e-48c3-90fc-579b8f884854"
   },
   "outputs": [
    {
     "name": "stdout",
     "output_type": "stream",
     "text": [
      "No of duplicate columns:  1438\n"
     ]
    },
    {
     "data": {
      "text/plain": [
       "(87209, 112)"
      ]
     },
     "execution_count": 7,
     "metadata": {},
     "output_type": "execute_result"
    }
   ],
   "source": [
    "# handle duplicate datapoints\n",
    "print(\"No of duplicate columns: \",df.duplicated(keep='first').sum())\n",
    "\n",
    "# drop duplicate rows\n",
    "df.drop_duplicates(inplace=True)\n",
    "\n",
    "# shape after dropping duplicates\n",
    "df.shape"
   ]
  },
  {
   "cell_type": "code",
   "execution_count": 8,
   "id": "d23c7739",
   "metadata": {
    "colab": {
     "base_uri": "https://localhost:8080/",
     "height": 260
    },
    "id": "d23c7739",
    "outputId": "2d4c8543-e0b3-4e3d-8006-ee6a5bf7c0e9"
   },
   "outputs": [
    {
     "data": {
      "text/plain": [
       "['qty_slash_domain',\n",
       " 'qty_questionmark_domain',\n",
       " 'qty_equal_domain',\n",
       " 'qty_and_domain',\n",
       " 'qty_exclamation_domain',\n",
       " 'qty_space_domain',\n",
       " 'qty_tilde_domain',\n",
       " 'qty_comma_domain',\n",
       " 'qty_plus_domain',\n",
       " 'qty_asterisk_domain',\n",
       " 'qty_hashtag_domain',\n",
       " 'qty_dollar_domain',\n",
       " 'qty_percent_domain']"
      ]
     },
     "metadata": {},
     "output_type": "display_data"
    },
    {
     "data": {
      "text/plain": [
       "(87209, 99)"
      ]
     },
     "execution_count": 8,
     "metadata": {},
     "output_type": "execute_result"
    }
   ],
   "source": [
    "# handle columns with single value\n",
    "# 0 variance => no information\n",
    "single_val_cols = []\n",
    "\n",
    "# for all columns\n",
    "for i in df.columns:\n",
    "    # columns with only 1 unique value\n",
    "    if df[i].nunique()==1:\n",
    "        single_val_cols.append(i)\n",
    "        \n",
    "# print all single value columns\n",
    "display(single_val_cols)\n",
    "        \n",
    "# drop single value columns\n",
    "df.drop(single_val_cols, axis=1, inplace =True)\n",
    "\n",
    "# shape after dropping single value columns\n",
    "df.shape"
   ]
  },
  {
   "cell_type": "code",
   "execution_count": 9,
   "id": "0ee52745",
   "metadata": {
    "colab": {
     "base_uri": "https://localhost:8080/"
    },
    "id": "0ee52745",
    "outputId": "9d2fe585-0665-4f9f-caaa-bc04973256ef"
   },
   "outputs": [
    {
     "data": {
      "text/plain": [
       "{'qty_dot_directory': 0.5311722413971035,\n",
       " 'qty_hyphen_directory': 0.5311722413971035,\n",
       " 'qty_underline_directory': 0.5311722413971035,\n",
       " 'qty_slash_directory': 0.5311722413971035,\n",
       " 'qty_questionmark_directory': 0.5311722413971035,\n",
       " 'qty_equal_directory': 0.5311722413971035,\n",
       " 'qty_at_directory': 0.5311722413971035,\n",
       " 'qty_and_directory': 0.5311722413971035,\n",
       " 'qty_exclamation_directory': 0.5311722413971035,\n",
       " 'qty_space_directory': 0.5311722413971035,\n",
       " 'qty_tilde_directory': 0.5311722413971035,\n",
       " 'qty_comma_directory': 0.5311722413971035,\n",
       " 'qty_plus_directory': 0.5311722413971035,\n",
       " 'qty_asterisk_directory': 0.5311722413971035,\n",
       " 'qty_hashtag_directory': 0.5311722413971035,\n",
       " 'qty_dollar_directory': 0.5311722413971035,\n",
       " 'qty_percent_directory': 0.5311722413971035,\n",
       " 'directory_length': 0.5311722413971035,\n",
       " 'qty_dot_file': 0.5311722413971035,\n",
       " 'qty_hyphen_file': 0.5311722413971035,\n",
       " 'qty_underline_file': 0.5311722413971035,\n",
       " 'qty_slash_file': 0.5311722413971035,\n",
       " 'qty_questionmark_file': 0.5311722413971035,\n",
       " 'qty_equal_file': 0.5311722413971035,\n",
       " 'qty_at_file': 0.5311722413971035,\n",
       " 'qty_and_file': 0.5311722413971035,\n",
       " 'qty_exclamation_file': 0.5311722413971035,\n",
       " 'qty_space_file': 0.5311722413971035,\n",
       " 'qty_tilde_file': 0.5311722413971035,\n",
       " 'qty_comma_file': 0.5311722413971035,\n",
       " 'qty_plus_file': 0.5311722413971035,\n",
       " 'qty_asterisk_file': 0.5311722413971035,\n",
       " 'qty_hashtag_file': 0.5311722413971035,\n",
       " 'qty_dollar_file': 0.5311722413971035,\n",
       " 'qty_percent_file': 0.5311722413971035,\n",
       " 'file_length': 0.5311722413971035,\n",
       " 'qty_dot_params': 0.9155706406448876,\n",
       " 'qty_hyphen_params': 0.9155706406448876,\n",
       " 'qty_underline_params': 0.9155706406448876,\n",
       " 'qty_slash_params': 0.9155706406448876,\n",
       " 'qty_questionmark_params': 0.9155706406448876,\n",
       " 'qty_equal_params': 0.9155706406448876,\n",
       " 'qty_at_params': 0.9155706406448876,\n",
       " 'qty_and_params': 0.9155706406448876,\n",
       " 'qty_exclamation_params': 0.9155706406448876,\n",
       " 'qty_space_params': 0.9155706406448876,\n",
       " 'qty_tilde_params': 0.9155706406448876,\n",
       " 'qty_comma_params': 0.9155706406448876,\n",
       " 'qty_plus_params': 0.9155706406448876,\n",
       " 'qty_asterisk_params': 0.9155706406448876,\n",
       " 'qty_hashtag_params': 0.9155706406448876,\n",
       " 'qty_dollar_params': 0.9155706406448876,\n",
       " 'qty_percent_params': 0.9155706406448876,\n",
       " 'params_length': 0.9155706406448876,\n",
       " 'tld_present_params': 0.9155706406448876,\n",
       " 'qty_params': 0.9155706406448876,\n",
       " 'time_response': 0.0507057757800227,\n",
       " 'domain_spf': 0.16828538338932908,\n",
       " 'asn_ip': 0.05861780320838446,\n",
       " 'time_domain_activation': 0.2653739866298203,\n",
       " 'time_domain_expiration': 0.2866332603286358,\n",
       " 'qty_ip_resolved': 0.035443589537777064,\n",
       " 'ttl_hostname': 0.03540918941852332,\n",
       " 'qty_redirects': 0.06320448577555068,\n",
       " 'url_google_index': 0.0007568026235824284,\n",
       " 'domain_google_index': 0.0007338692107465972}"
      ]
     },
     "execution_count": 9,
     "metadata": {},
     "output_type": "execute_result"
    }
   ],
   "source": [
    "# columns with invalid(-1) values\n",
    "# proportion of -1 in such columns\n",
    "cols_with_neg_1 = {} \n",
    "\n",
    "for i in df.columns:\n",
    "    x = df[i].value_counts(normalize=True)\n",
    "    if df[i].isin([-1]).any():\n",
    "        cols_with_neg_1[i] = x[-1]\n",
    "\n",
    "# -1 can be replaced with NaN and imputed using mean or knn imputer    \n",
    "# print the columns with -1 along with the proportion\n",
    "cols_with_neg_1"
   ]
  },
  {
   "cell_type": "markdown",
   "id": "95298545",
   "metadata": {
    "id": "95298545"
   },
   "source": [
    "## Note:\n",
    "> - The author of the dataset provides no information about the presence of -1 values in columns.\n",
    "> - Given the huge amount of -1 values in the dataset, we take an alternate approach and treat -1 values as valid values.\n",
    "> - No imputation or dropping of the -1 value columns or rows is done, and the values are used as it is for training and testing various models.\n",
    "\n",
    "----\n",
    "\n",
    "## Feature Importance\n",
    "- Importance analysis with XGBoost\n",
    "- Importance analysis with Logistic Regression\n",
    "- Retain important features"
   ]
  },
  {
   "cell_type": "code",
   "execution_count": 10,
   "id": "b31fc382",
   "metadata": {
    "id": "b31fc382"
   },
   "outputs": [],
   "source": [
    "# separate independent and dependent features for feature importance analysis\n",
    "X = df.drop('phishing', axis=1)\n",
    "y = df['phishing']"
   ]
  },
  {
   "cell_type": "code",
   "execution_count": 11,
   "id": "28abf433",
   "metadata": {
    "colab": {
     "base_uri": "https://localhost:8080/"
    },
    "id": "28abf433",
    "outputId": "e0d78e82-3e65-4d3a-bb1f-40ea6e509b6d"
   },
   "outputs": [
    {
     "name": "stdout",
     "output_type": "stream",
     "text": [
      "training XGBoost...\n",
      "training end: 11.37 seconds elapsed!\n"
     ]
    }
   ],
   "source": [
    "# feature importance analysis using XGBoost\n",
    "# instantiate an XGBoost model\n",
    "model = XGBClassifier(n_estimators=100)\n",
    "\n",
    "# training start\n",
    "print('training XGBoost...')\n",
    "start_time = time.time()\n",
    "\n",
    "# train the model\n",
    "model.fit(X, y)\n",
    "\n",
    "# training end\n",
    "end_time = time.time()\n",
    "print('training end:', '{:.2f}'.format(end_time - start_time), 'seconds elapsed!')"
   ]
  },
  {
   "cell_type": "code",
   "execution_count": 12,
   "id": "68d04341",
   "metadata": {
    "colab": {
     "base_uri": "https://localhost:8080/",
     "height": 761
    },
    "id": "68d04341",
    "outputId": "8cbbd291-05b9-4fec-aa43-b201d02d21b8"
   },
   "outputs": [
    {
     "data": {
      "image/png": "[encoded data removed]",
      "text/plain": [
       "<Figure size 1080x720 with 1 Axes>"
      ]
     },
     "metadata": {},
     "output_type": "display_data"
    }
   ],
   "source": [
    "# create a mapping of features and feature importance\n",
    "imp_features_xgb = pd.DataFrame(\n",
    "    {\n",
    "        'features': X.columns,\n",
    "        'importance': model.feature_importances_\n",
    "    }\n",
    ")\n",
    "\n",
    "# sort the features by their feature importance in descending order\n",
    "imp_features_xgb = imp_features_xgb.sort_values(by='importance', ascending=False)\n",
    "\n",
    "# plot the feature importance\n",
    "plt.figure(figsize=(15,10))\n",
    "\n",
    "plt.bar(x=imp_features_xgb['features'], height=imp_features_xgb['importance'], color='#087E8B')\n",
    "\n",
    "plt.title('Feature Importances using XGBoost', size=20)\n",
    "plt.xlabel('Features', size=16)\n",
    "plt.ylabel('Importance', size=16)\n",
    "plt.xticks(rotation='vertical')\n",
    "\n",
    "plt.show()"
   ]
  },
  {
   "cell_type": "code",
   "execution_count": 13,
   "id": "31b432bc",
   "metadata": {
    "colab": {
     "base_uri": "https://localhost:8080/",
     "height": 694
    },
    "id": "31b432bc",
    "outputId": "7bef1797-4b2e-46eb-aa98-ba4bcd6da8cb"
   },
   "outputs": [
    {
     "data": {
      "text/plain": [
       "['directory_length',\n",
       " 'qty_slash_url',\n",
       " 'qty_dot_domain',\n",
       " 'qty_percent_file',\n",
       " 'time_domain_activation',\n",
       " 'qty_dot_params',\n",
       " 'qty_hyphen_directory',\n",
       " 'qty_underline_file',\n",
       " 'url_shortened',\n",
       " 'length_url',\n",
       " 'domain_in_ip',\n",
       " 'qty_ip_resolved',\n",
       " 'qty_tld_url',\n",
       " 'tld_present_params',\n",
       " 'qty_nameservers',\n",
       " 'qty_equal_url',\n",
       " 'qty_dot_url',\n",
       " 'tls_ssl_certificate',\n",
       " 'domain_spf',\n",
       " 'qty_underline_url',\n",
       " 'qty_hyphen_file',\n",
       " 'asn_ip',\n",
       " 'qty_at_url',\n",
       " 'qty_mx_servers',\n",
       " 'ttl_hostname',\n",
       " 'qty_hyphen_domain',\n",
       " 'qty_hyphen_url',\n",
       " 'time_response',\n",
       " 'qty_and_params',\n",
       " 'qty_percent_directory',\n",
       " 'qty_plus_url',\n",
       " 'qty_plus_params',\n",
       " 'file_length',\n",
       " 'domain_length',\n",
       " 'qty_redirects',\n",
       " 'qty_slash_directory',\n",
       " 'qty_vowels_domain',\n",
       " 'qty_comma_directory',\n",
       " 'qty_equal_directory',\n",
       " 'qty_comma_file',\n",
       " 'params_length',\n",
       " 'time_domain_expiration',\n",
       " 'qty_underline_directory',\n",
       " 'qty_percent_url',\n",
       " 'qty_dot_directory',\n",
       " 'qty_dot_file',\n",
       " 'qty_params',\n",
       " 'qty_slash_params',\n",
       " 'qty_underline_params',\n",
       " 'qty_hyphen_params',\n",
       " 'qty_equal_params',\n",
       " 'qty_comma_url',\n",
       " 'qty_exclamation_directory',\n",
       " 'qty_plus_directory',\n",
       " 'qty_asterisk_url',\n",
       " 'qty_percent_params',\n",
       " 'qty_tilde_directory',\n",
       " 'qty_and_url']"
      ]
     },
     "metadata": {},
     "output_type": "display_data"
    },
    {
     "data": {
      "text/plain": [
       "58"
      ]
     },
     "execution_count": 13,
     "metadata": {},
     "output_type": "execute_result"
    }
   ],
   "source": [
    "# important features with XGBoost\n",
    "# extract the features with importance greater than 0\n",
    "imp_features_xgb = [feat for feat,imp in zip(imp_features_xgb['features'], imp_features_xgb['importance']) if imp>0]\n",
    "\n",
    "# list all such important features\n",
    "display(imp_features_xgb)\n",
    "\n",
    "# number of important features\n",
    "len(imp_features_xgb)"
   ]
  },
  {
   "cell_type": "code",
   "execution_count": 14,
   "id": "02289b71",
   "metadata": {
    "colab": {
     "base_uri": "https://localhost:8080/"
    },
    "id": "02289b71",
    "outputId": "9d7597f6-a7d7-4c5e-d5fb-4de3a06f1c47"
   },
   "outputs": [
    {
     "name": "stdout",
     "output_type": "stream",
     "text": [
      "training Logistic Regression...\n",
      "training end: 1.81 seconds elapsed!\n"
     ]
    }
   ],
   "source": [
    "# feature importance analysis using Logistic Regression\n",
    "# instantiate an Logistic Regression model\n",
    "model = LogisticRegression()\n",
    "\n",
    "# training start\n",
    "print('training Logistic Regression...')\n",
    "start_time = time.time()\n",
    "\n",
    "# train the model\n",
    "model.fit(X, y)\n",
    "\n",
    "# training end\n",
    "end_time = time.time()\n",
    "print('training end:', '{:.2f}'.format(end_time - start_time), 'seconds elapsed!')"
   ]
  },
  {
   "cell_type": "code",
   "execution_count": 15,
   "id": "7c052f7b",
   "metadata": {
    "colab": {
     "base_uri": "https://localhost:8080/",
     "height": 761
    },
    "id": "7c052f7b",
    "outputId": "c2d66fd6-4a7c-4bb7-b90f-f884c19964a5"
   },
   "outputs": [
    {
     "data": {
      "image/png": "[encoded data removed]",
      "text/plain": [
       "<Figure size 1080x720 with 1 Axes>"
      ]
     },
     "metadata": {},
     "output_type": "display_data"
    }
   ],
   "source": [
    "# create a mapping of features and feature importance\n",
    "imp_features_lr = pd.DataFrame(\n",
    "    {\n",
    "        'features': X.columns,\n",
    "        'importance': model.coef_[0]\n",
    "    }\n",
    ")\n",
    "\n",
    "# sort the features by their feature importance in descending order\n",
    "imp_features_lr = imp_features_lr.sort_values(by='importance', ascending=False)\n",
    "\n",
    "# plot the feature importance\n",
    "plt.figure(figsize=(15,10))\n",
    "\n",
    "plt.bar(x=imp_features_lr['features'], height=imp_features_lr['importance'], color='#087E8B')\n",
    "\n",
    "plt.title('Feature Importances using Logistic Regression', size=20)\n",
    "plt.xlabel('Features', size=16)\n",
    "plt.ylabel('Importance', size=16)\n",
    "plt.xticks(rotation='vertical')\n",
    "\n",
    "plt.show()"
   ]
  },
  {
   "cell_type": "code",
   "execution_count": 16,
   "id": "20c61ded",
   "metadata": {
    "colab": {
     "base_uri": "https://localhost:8080/",
     "height": 868
    },
    "id": "20c61ded",
    "outputId": "54d268eb-bf41-4a47-d38a-69019e6bf5b3"
   },
   "outputs": [
    {
     "data": {
      "text/plain": [
       "['qty_slash_directory',\n",
       " 'directory_length',\n",
       " 'qty_slash_url',\n",
       " 'qty_dot_directory',\n",
       " 'qty_dot_file',\n",
       " 'qty_equal_directory',\n",
       " 'qty_at_directory',\n",
       " 'qty_exclamation_directory',\n",
       " 'qty_exclamation_file',\n",
       " 'qty_and_directory',\n",
       " 'qty_asterisk_directory',\n",
       " 'qty_equal_file',\n",
       " 'qty_space_directory',\n",
       " 'qty_at_file',\n",
       " 'qty_dollar_directory',\n",
       " 'qty_asterisk_file',\n",
       " 'qty_and_file',\n",
       " 'qty_space_file',\n",
       " 'qty_tilde_directory',\n",
       " 'qty_hashtag_directory',\n",
       " 'qty_slash_file',\n",
       " 'qty_hashtag_file',\n",
       " 'qty_questionmark_directory',\n",
       " 'qty_dollar_file',\n",
       " 'qty_questionmark_file',\n",
       " 'qty_tilde_file',\n",
       " 'qty_comma_directory',\n",
       " 'qty_comma_file',\n",
       " 'qty_plus_file',\n",
       " 'qty_plus_directory',\n",
       " 'qty_underline_directory',\n",
       " 'qty_underline_file',\n",
       " 'qty_hyphen_file',\n",
       " 'qty_vowels_domain',\n",
       " 'length_url',\n",
       " 'qty_percent_file',\n",
       " 'qty_percent_directory',\n",
       " 'time_response',\n",
       " 'qty_hyphen_domain',\n",
       " 'params_length',\n",
       " 'domain_length',\n",
       " 'qty_hyphen_url',\n",
       " 'qty_dot_url',\n",
       " 'qty_mx_servers',\n",
       " 'qty_percent_url',\n",
       " 'qty_dot_domain',\n",
       " 'qty_nameservers',\n",
       " 'file_length']"
      ]
     },
     "metadata": {},
     "output_type": "display_data"
    },
    {
     "data": {
      "text/plain": [
       "48"
      ]
     },
     "execution_count": 16,
     "metadata": {},
     "output_type": "execute_result"
    }
   ],
   "source": [
    "# important features with Logistic Regression\n",
    "# extract the features with absolute value of importance greater than 0.01\n",
    "imp_features_lr = [feat for feat,imp in zip(imp_features_lr['features'], imp_features_lr['importance']) if abs(imp)>0.01]\n",
    "\n",
    "# list all such important features\n",
    "display(imp_features_lr)\n",
    "\n",
    "# number of important features\n",
    "len(imp_features_lr)"
   ]
  },
  {
   "cell_type": "code",
   "execution_count": 17,
   "id": "28ea9734",
   "metadata": {
    "colab": {
     "base_uri": "https://localhost:8080/"
    },
    "id": "28ea9734",
    "outputId": "039430bc-87ac-4a27-aa73-65a63671f1be"
   },
   "outputs": [
    {
     "name": "stdout",
     "output_type": "stream",
     "text": [
      "total common features: 29\n",
      "only xgboost features: 29\n",
      "only log-reg features: 19\n",
      "all important features: 78\n",
      "not important features: 21\n"
     ]
    }
   ],
   "source": [
    "# analysis of feature importance with XGBoost vs Logistic Regression\n",
    "# common important features\n",
    "common_features = list(set(imp_features_xgb).intersection(imp_features_lr))\n",
    "print('total common features:', len(common_features))\n",
    "\n",
    "# important features exclusive to XGBoost\n",
    "xgb_only_features = list(set(imp_features_xgb).difference(imp_features_lr))\n",
    "print('only xgboost features:', len(xgb_only_features))\n",
    "\n",
    "# important features exclusive to Logistic Regression\n",
    "lr_only_features = list(set(imp_features_lr).difference(imp_features_xgb))\n",
    "print('only log-reg features:', len(lr_only_features))\n",
    "\n",
    "# union of important features\n",
    "important_features_all = list(set(imp_features_xgb).union(imp_features_lr))\n",
    "important_features_all.append('phishing')\n",
    "print('all important features:', len(important_features_all))\n",
    "\n",
    "# useless features\n",
    "useless_features = list(set(df.columns).difference(important_features_all))\n",
    "print('not important features:', len(useless_features))"
   ]
  },
  {
   "cell_type": "code",
   "execution_count": 18,
   "id": "2fbdfb9f",
   "metadata": {
    "colab": {
     "base_uri": "https://localhost:8080/",
     "height": 52
    },
    "id": "2fbdfb9f",
    "outputId": "b3bee8fe-15a8-4e2e-ee57-5688c471a17c"
   },
   "outputs": [
    {
     "data": {
      "text/plain": [
       "(87209, 99)"
      ]
     },
     "metadata": {},
     "output_type": "display_data"
    },
    {
     "data": {
      "text/plain": [
       "(87209, 78)"
      ]
     },
     "execution_count": 18,
     "metadata": {},
     "output_type": "execute_result"
    }
   ],
   "source": [
    "# update dataset to drop not important features\n",
    "# shape before dropping useless features\n",
    "display(df.shape)\n",
    "\n",
    "# drop 31 columns\n",
    "df = df.drop(columns=useless_features, axis=1)\n",
    "\n",
    "# reset index\n",
    "df = df.reset_index(drop=True)\n",
    "\n",
    "# shape after dropping useless features\n",
    "df.shape"
   ]
  },
  {
   "cell_type": "code",
   "execution_count": 19,
   "id": "878314a5",
   "metadata": {
    "colab": {
     "base_uri": "https://localhost:8080/"
    },
    "id": "878314a5",
    "outputId": "4cb95fd9-84fa-4fb1-9556-aed92834e75e"
   },
   "outputs": [
    {
     "name": "stdout",
     "output_type": "stream",
     "text": [
      "train: 52325\n",
      "valid: 17442\n",
      "test: 17442\n"
     ]
    }
   ],
   "source": [
    "# split into train-validation-test sets (60-20-20)\n",
    "# perform a random split\n",
    "\n",
    "# train-test split (80-20)\n",
    "df_train, df_test = train_test_split(df, test_size=0.2, stratify=df['phishing'], random_state=42)\n",
    "\n",
    "# train-validation split (80-20)\n",
    "# 0.8 * 0.25 = 0.2\n",
    "df_train, df_valid = train_test_split(df_train, test_size=0.25, stratify=df_train['phishing'], random_state=42)\n",
    "\n",
    "# rest index\n",
    "df_train = df_train.reset_index(drop=True)\n",
    "df_valid = df_valid.reset_index(drop=True)\n",
    "df_test = df_test.reset_index(drop=True)\n",
    "\n",
    "# size of train-validation-test sets\n",
    "print('train:',df_train.shape[0])\n",
    "print('valid:',df_valid.shape[0])\n",
    "print('test:',df_test.shape[0])"
   ]
  },
  {
   "cell_type": "code",
   "execution_count": 20,
   "id": "9537ddc1",
   "metadata": {},
   "outputs": [],
   "source": [
    "# save the final cleaned train, validation and test sets\n",
    "df_train.to_csv('../data/train.csv', index=None)\n",
    "df_valid.to_csv('../data/valid.csv', index=None)\n",
    "df_test.to_csv('../data/test.csv', index=None)"
   ]
  },
  {
   "cell_type": "code",
   "execution_count": 21,
   "id": "05c49fe0",
   "metadata": {
    "id": "05c49fe0"
   },
   "outputs": [],
   "source": [
    "# separate datasets into independent and dependent features: x & y\n",
    "# maintain scaled version of the dataset for logistic regression & svm\n",
    "# train set\n",
    "X_train = df_train.drop('phishing', axis=1)\n",
    "y_train = df_train['phishing']\n",
    "\n",
    "# valid set\n",
    "X_valid = df_valid.drop('phishing', axis=1)\n",
    "y_valid = df_valid['phishing']\n",
    "\n",
    "# test set\n",
    "X_test = df_test.drop('phishing', axis=1)\n",
    "y_test = df_test['phishing']\n",
    "\n",
    "# scale the independent features\n",
    "# instantiate a StandardScaler\n",
    "scaler = StandardScaler()\n",
    "\n",
    "# standardize the datasets\n",
    "X_train_scaled = scaler.fit_transform(X_train)\n",
    "X_valid_scaled = scaler.transform(X_valid)\n",
    "X_test_scaled = scaler.transform(X_test)"
   ]
  },
  {
   "cell_type": "code",
   "execution_count": 22,
   "id": "05b5ac46",
   "metadata": {
    "id": "05b5ac46"
   },
   "outputs": [],
   "source": [
    "# utility function\n",
    "# plot confusion matrix using sns heatmap\n",
    "def plot_confusion_matrix(cf_matrix, title, xlabel='Predicted', ylabel='Actual', ticklabels=None, figsize=(8,4)):\n",
    "    group_counts = [\"{0:0.0f}\".format(value) for value in cf_matrix.flatten()]\n",
    "    \n",
    "    group_percentages = [\"{0:.2%}\".format(value) for value in cf_matrix.flatten()/np.sum(cf_matrix)]\n",
    "    \n",
    "    labels = [f\"{v1}\\n{v2}\\n\" for v1, v2 in zip(group_counts,group_percentages)]\n",
    "    labels = np.asarray(labels).reshape(cf_matrix.shape)\n",
    "\n",
    "    plt.figure(figsize = figsize, dpi=100)\n",
    "    ax = sns.heatmap(cf_matrix, annot=labels, fmt='', cmap='Blues', )\n",
    "\n",
    "    ax.set_title(title, fontdict={'fontsize':16});\n",
    "    ax.set_xlabel(xlabel, fontdict={'fontsize':16})\n",
    "    ax.set_ylabel(ylabel, fontdict={'fontsize':16});\n",
    "\n",
    "    # Ticket labels - List must be in alphabetical order\n",
    "    if ticklabels:\n",
    "        ax.xaxis.set_ticklabels(ticklabels)\n",
    "        ax.yaxis.set_ticklabels(ticklabels)\n",
    "\n",
    "    ## Display the visualization of the Confusion Matrix.\n",
    "    plt.show()"
   ]
  },
  {
   "cell_type": "code",
   "execution_count": 23,
   "id": "87b3ceff",
   "metadata": {},
   "outputs": [],
   "source": [
    "# define data structures to store model performance evaluation results\n",
    "results = {\n",
    "    'metrics': ['accuracy','recall', 'f1-score', 'roc_auc'],\n",
    "    'Logistic Regression': [],\n",
    "    'Linear SVM': [],\n",
    "    'Naive Bayes': [],\n",
    "    'XGBoost': []\n",
    "}"
   ]
  },
  {
   "cell_type": "markdown",
   "id": "b1301d6c",
   "metadata": {
    "id": "b1301d6c"
   },
   "source": [
    "## Logistic Regression"
   ]
  },
  {
   "cell_type": "code",
   "execution_count": 24,
   "id": "5f7feabb",
   "metadata": {
    "colab": {
     "base_uri": "https://localhost:8080/"
    },
    "id": "5f7feabb",
    "outputId": "0d3460dd-55eb-40e6-c8fe-1f58bec28f2d"
   },
   "outputs": [
    {
     "name": "stdout",
     "output_type": "stream",
     "text": [
      "training logistic regression...\n",
      "training completed: 0.88 seconds\n",
      "testing...\n",
      "testing completed: 0.00 seconds\n"
     ]
    }
   ],
   "source": [
    "# train and test logistic regression\n",
    "# logistic regression\n",
    "# instantiate logistic regression model\n",
    "model = LogisticRegression()\n",
    "\n",
    "# training start\n",
    "print('training logistic regression...')\n",
    "start_time = time.time()\n",
    "\n",
    "# fit the imputer to the train set\n",
    "model.fit(X_train_scaled, y_train.values.ravel())\n",
    "\n",
    "# training end\n",
    "end_time = time.time()\n",
    "print('training completed:', '{:.2f}'.format(end_time - start_time), 'seconds')\n",
    "\n",
    "# testing start\n",
    "print('testing...')\n",
    "start_time = time.time()\n",
    "              \n",
    "# make predictions on validation set\n",
    "y_pred = model.predict(X_valid_scaled)\n",
    "        \n",
    "# testing end\n",
    "end_time = time.time()\n",
    "print('testing completed:', '{:.2f}'.format(end_time - start_time), 'seconds')"
   ]
  },
  {
   "cell_type": "code",
   "execution_count": 25,
   "id": "a60f87f9",
   "metadata": {
    "colab": {
     "base_uri": "https://localhost:8080/",
     "height": 0
    },
    "id": "a60f87f9",
    "outputId": "229557f0-2bef-4445-f0d9-adc04b7787c1"
   },
   "outputs": [
    {
     "name": "stdout",
     "output_type": "stream",
     "text": [
      "accuracy 0.9353858502465313\n",
      "recall 0.9180327868852459\n",
      "f1-score 0.9085746734809766\n",
      "roc_auc 0.931375765687377\n"
     ]
    },
    {
     "data": {
      "text/html": [
       "<div>\n",
       "<style scoped>\n",
       "    .dataframe tbody tr th:only-of-type {\n",
       "        vertical-align: middle;\n",
       "    }\n",
       "\n",
       "    .dataframe tbody tr th {\n",
       "        vertical-align: top;\n",
       "    }\n",
       "\n",
       "    .dataframe thead th {\n",
       "        text-align: right;\n",
       "    }\n",
       "</style>\n",
       "<table border=\"1\" class=\"dataframe\">\n",
       "  <thead>\n",
       "    <tr style=\"text-align: right;\">\n",
       "      <th></th>\n",
       "      <th>F1 Score</th>\n",
       "    </tr>\n",
       "  </thead>\n",
       "  <tbody>\n",
       "    <tr>\n",
       "      <th>0</th>\n",
       "      <td>0.950038</td>\n",
       "    </tr>\n",
       "    <tr>\n",
       "      <th>1</th>\n",
       "      <td>0.908575</td>\n",
       "    </tr>\n",
       "  </tbody>\n",
       "</table>\n",
       "</div>"
      ],
      "text/plain": [
       "   F1 Score\n",
       "0  0.950038\n",
       "1  0.908575"
      ]
     },
     "metadata": {},
     "output_type": "display_data"
    },
    {
     "data": {
      "image/png": "[encoded data removed]",
      "text/plain": [
       "<Figure size 800x400 with 2 Axes>"
      ]
     },
     "metadata": {},
     "output_type": "display_data"
    }
   ],
   "source": [
    "# results: logistic regression\n",
    "# accuracy\n",
    "acc = accuracy_score(y_valid, y_pred)\n",
    "results['Logistic Regression'].append(acc)\n",
    "print('accuracy', acc)\n",
    "\n",
    "# recall\n",
    "recall = recall_score(y_valid, y_pred)\n",
    "results['Logistic Regression'].append(recall)\n",
    "print('recall', recall)\n",
    "\n",
    "# f1 score\n",
    "f1 = f1_score(y_valid, y_pred)\n",
    "results['Logistic Regression'].append(f1)\n",
    "print('f1-score', f1)\n",
    "\n",
    "# roc_auc\n",
    "roc = roc_auc_score(y_valid, y_pred)\n",
    "results['Logistic Regression'].append(roc)\n",
    "print('roc_auc', roc)\n",
    "\n",
    "# class label-wise f1 score\n",
    "# 0 - Not Phishing\n",
    "# 1 - Phishing\n",
    "display(pd.DataFrame(np.asarray(f1_score(y_valid, y_pred, average=None)).T, columns=['F1 Score'], index=['0', '1']))\n",
    "\n",
    "# confusion matrix\n",
    "# plot heatmap\n",
    "plot_confusion_matrix(\n",
    "    confusion_matrix(y_valid.values.ravel(), y_pred),\n",
    "    'Confusion Matrix: Logistic Regression'\n",
    ")"
   ]
  },
  {
   "cell_type": "markdown",
   "id": "86aed559",
   "metadata": {
    "id": "86aed559"
   },
   "source": [
    "# Linear SVM"
   ]
  },
  {
   "cell_type": "code",
   "execution_count": 26,
   "id": "645a4bb8",
   "metadata": {
    "colab": {
     "base_uri": "https://localhost:8080/"
    },
    "id": "645a4bb8",
    "outputId": "cf917676-71d5-4cd5-c085-34951e46d4ed"
   },
   "outputs": [
    {
     "name": "stdout",
     "output_type": "stream",
     "text": [
      "training linear SVM...\n",
      "training completed: 13.98 seconds\n",
      "testing...\n",
      "testing completed: 0.00 seconds\n"
     ]
    }
   ],
   "source": [
    "# train and test linear SVM\n",
    "# instantiate linear SVM model\n",
    "model = LinearSVC()\n",
    "\n",
    "# training start\n",
    "print('training linear SVM...')\n",
    "start_time = time.time()\n",
    "\n",
    "# fit the imputer to the train set\n",
    "model.fit(X_train_scaled, y_train.values.ravel())\n",
    "\n",
    "# training end\n",
    "end_time = time.time()\n",
    "print('training completed:', '{:.2f}'.format(end_time - start_time), 'seconds')\n",
    "\n",
    "# testing start\n",
    "print('testing...')\n",
    "start_time = time.time()\n",
    "              \n",
    "# make predictions on validation set\n",
    "y_pred = model.predict(X_valid_scaled)\n",
    "        \n",
    "# testing end\n",
    "end_time = time.time()\n",
    "print('testing completed:', '{:.2f}'.format(end_time - start_time), 'seconds')"
   ]
  },
  {
   "cell_type": "code",
   "execution_count": 27,
   "id": "8ef01010",
   "metadata": {
    "colab": {
     "base_uri": "https://localhost:8080/",
     "height": 542
    },
    "id": "8ef01010",
    "outputId": "68a08b6d-b518-4350-f42d-b1bca1dee577"
   },
   "outputs": [
    {
     "name": "stdout",
     "output_type": "stream",
     "text": [
      "accuracy 0.9345258571264763\n",
      "recall 0.921311475409836\n",
      "f1-score 0.9077693425940883\n",
      "roc_auc 0.9314721721961894\n"
     ]
    },
    {
     "data": {
      "text/html": [
       "<div>\n",
       "<style scoped>\n",
       "    .dataframe tbody tr th:only-of-type {\n",
       "        vertical-align: middle;\n",
       "    }\n",
       "\n",
       "    .dataframe tbody tr th {\n",
       "        vertical-align: top;\n",
       "    }\n",
       "\n",
       "    .dataframe thead th {\n",
       "        text-align: right;\n",
       "    }\n",
       "</style>\n",
       "<table border=\"1\" class=\"dataframe\">\n",
       "  <thead>\n",
       "    <tr style=\"text-align: right;\">\n",
       "      <th></th>\n",
       "      <th>F1 Score</th>\n",
       "    </tr>\n",
       "  </thead>\n",
       "  <tbody>\n",
       "    <tr>\n",
       "      <th>0</th>\n",
       "      <td>0.949249</td>\n",
       "    </tr>\n",
       "    <tr>\n",
       "      <th>1</th>\n",
       "      <td>0.907769</td>\n",
       "    </tr>\n",
       "  </tbody>\n",
       "</table>\n",
       "</div>"
      ],
      "text/plain": [
       "   F1 Score\n",
       "0  0.949249\n",
       "1  0.907769"
      ]
     },
     "metadata": {},
     "output_type": "display_data"
    },
    {
     "data": {
      "image/png": "[encoded data removed]",
      "text/plain": [
       "<Figure size 800x400 with 2 Axes>"
      ]
     },
     "metadata": {},
     "output_type": "display_data"
    }
   ],
   "source": [
    "# results: linear svm\n",
    "# accuracy\n",
    "acc = accuracy_score(y_valid, y_pred)\n",
    "results['Linear SVM'].append(acc)\n",
    "print('accuracy', acc)\n",
    "\n",
    "# recall\n",
    "recall = recall_score(y_valid, y_pred)\n",
    "results['Linear SVM'].append(recall)\n",
    "print('recall', recall)\n",
    "\n",
    "# f1 score\n",
    "f1 = f1_score(y_valid, y_pred)\n",
    "results['Linear SVM'].append(f1)\n",
    "print('f1-score', f1)\n",
    "\n",
    "# roc_auc\n",
    "roc = roc_auc_score(y_valid, y_pred)\n",
    "results['Linear SVM'].append(roc)\n",
    "print('roc_auc', roc)\n",
    "\n",
    "# class label-wise f1 score\n",
    "# 0 - Not Phishing\n",
    "# 1 - Phishing\n",
    "display(pd.DataFrame(np.asarray(f1_score(y_valid, y_pred, average=None)).T, columns=['F1 Score'], index=['0', '1']))\n",
    "\n",
    "# confusion matrix\n",
    "# plot heatmap\n",
    "plot_confusion_matrix(\n",
    "    confusion_matrix(y_valid.values.ravel(), y_pred),\n",
    "    'Confusion Matrix: Linear SVM'\n",
    ")"
   ]
  },
  {
   "cell_type": "markdown",
   "id": "7a61cce4",
   "metadata": {
    "id": "7a61cce4"
   },
   "source": [
    "## Gaussian NB"
   ]
  },
  {
   "cell_type": "code",
   "execution_count": 28,
   "id": "f61d9b5b",
   "metadata": {
    "colab": {
     "base_uri": "https://localhost:8080/"
    },
    "id": "f61d9b5b",
    "outputId": "e2f67315-f065-472e-bd87-dd4b2d14af46"
   },
   "outputs": [
    {
     "name": "stdout",
     "output_type": "stream",
     "text": [
      "training Gaussian NB...\n",
      "training completed: 0.09 seconds\n",
      "testing...\n",
      "testing completed: 0.03 seconds\n"
     ]
    }
   ],
   "source": [
    "# train and test Naive Bayes classifier\n",
    "# instantiate Gaussian Naive Bayes model\n",
    "model = GaussianNB()\n",
    "\n",
    "# training start\n",
    "print('training Gaussian NB...')\n",
    "start_time = time.time()\n",
    "\n",
    "# fit the imputer to the train set\n",
    "model.fit(X_train, y_train.values.ravel())\n",
    "\n",
    "# training end\n",
    "end_time = time.time()\n",
    "print('training completed:', '{:.2f}'.format(end_time - start_time), 'seconds')\n",
    "\n",
    "# testing start\n",
    "print('testing...')\n",
    "start_time = time.time()\n",
    "              \n",
    "# make predictions on validation set\n",
    "y_pred = model.predict(X_valid)\n",
    "\n",
    "# testing end\n",
    "end_time = time.time()\n",
    "print('testing completed:', '{:.2f}'.format(end_time - start_time), 'seconds')"
   ]
  },
  {
   "cell_type": "code",
   "execution_count": 29,
   "id": "79750453",
   "metadata": {
    "colab": {
     "base_uri": "https://localhost:8080/",
     "height": 542
    },
    "id": "79750453",
    "outputId": "fa25b184-b1a0-4f69-da58-a2803e3f8fd3"
   },
   "outputs": [
    {
     "name": "stdout",
     "output_type": "stream",
     "text": [
      "accuracy 0.855979818828116\n",
      "recall 0.6701639344262295\n",
      "f1-score 0.7649700598802395\n",
      "roc_auc 0.81303999930622\n"
     ]
    },
    {
     "data": {
      "text/html": [
       "<div>\n",
       "<style scoped>\n",
       "    .dataframe tbody tr th:only-of-type {\n",
       "        vertical-align: middle;\n",
       "    }\n",
       "\n",
       "    .dataframe tbody tr th {\n",
       "        vertical-align: top;\n",
       "    }\n",
       "\n",
       "    .dataframe thead th {\n",
       "        text-align: right;\n",
       "    }\n",
       "</style>\n",
       "<table border=\"1\" class=\"dataframe\">\n",
       "  <thead>\n",
       "    <tr style=\"text-align: right;\">\n",
       "      <th></th>\n",
       "      <th>F1 Score</th>\n",
       "    </tr>\n",
       "  </thead>\n",
       "  <tbody>\n",
       "    <tr>\n",
       "      <th>0</th>\n",
       "      <td>0.896181</td>\n",
       "    </tr>\n",
       "    <tr>\n",
       "      <th>1</th>\n",
       "      <td>0.764970</td>\n",
       "    </tr>\n",
       "  </tbody>\n",
       "</table>\n",
       "</div>"
      ],
      "text/plain": [
       "   F1 Score\n",
       "0  0.896181\n",
       "1  0.764970"
      ]
     },
     "metadata": {},
     "output_type": "display_data"
    },
    {
     "data": {
      "image/png": "[encoded data removed]",
      "text/plain": [
       "<Figure size 800x400 with 2 Axes>"
      ]
     },
     "metadata": {},
     "output_type": "display_data"
    }
   ],
   "source": [
    "# results: Gaussian NB\n",
    "# accuracy\n",
    "acc = accuracy_score(y_valid, y_pred)\n",
    "results['Naive Bayes'].append(acc)\n",
    "print('accuracy', acc)\n",
    "\n",
    "# recall\n",
    "recall = recall_score(y_valid, y_pred)\n",
    "results['Naive Bayes'].append(recall)\n",
    "print('recall', recall)\n",
    "\n",
    "# f1 score\n",
    "f1 = f1_score(y_valid, y_pred)\n",
    "results['Naive Bayes'].append(f1)\n",
    "print('f1-score', f1)\n",
    "\n",
    "# roc_auc\n",
    "roc = roc_auc_score(y_valid, y_pred)\n",
    "results['Naive Bayes'].append(roc)\n",
    "print('roc_auc', roc)\n",
    "\n",
    "# class label-wise f1 score\n",
    "# 0 - Not Phishing\n",
    "# 1 - Phishing\n",
    "display(pd.DataFrame(np.asarray(f1_score(y_valid, y_pred, average=None)).T, columns=['F1 Score'], index=['0', '1']))\n",
    "\n",
    "# confusion matrix\n",
    "# plot heatmap\n",
    "plot_confusion_matrix(\n",
    "    confusion_matrix(y_valid.values.ravel(), y_pred),\n",
    "    'Confusion Matrix: Gaussian NB'\n",
    ")"
   ]
  },
  {
   "cell_type": "markdown",
   "id": "vgk6SoAILLHl",
   "metadata": {
    "id": "vgk6SoAILLHl"
   },
   "source": [
    "## XGBoost"
   ]
  },
  {
   "cell_type": "code",
   "execution_count": 30,
   "id": "69056529",
   "metadata": {
    "colab": {
     "base_uri": "https://localhost:8080/"
    },
    "id": "69056529",
    "outputId": "ca9b415e-c531-4574-b7d9-8b18cbc86d81"
   },
   "outputs": [
    {
     "name": "stdout",
     "output_type": "stream",
     "text": [
      "training XGBoost...\n",
      "training completed: 5.31 seconds\n",
      "testing...\n",
      "testing completed: 0.04 seconds\n"
     ]
    }
   ],
   "source": [
    "# train and test XGBoost classifier\n",
    "# instantiate XGBoost model\n",
    "model = XGBClassifier()\n",
    "\n",
    "# training start\n",
    "print('training XGBoost...')\n",
    "start_time = time.time()\n",
    "\n",
    "# fit the imputer to the train set\n",
    "model.fit(X_train, y_train.values.ravel())\n",
    "\n",
    "# training end\n",
    "end_time = time.time()\n",
    "print('training completed:', '{:.2f}'.format(end_time - start_time), 'seconds')\n",
    "\n",
    "# testing start\n",
    "print('testing...')\n",
    "start_time = time.time()\n",
    "              \n",
    "# make predictions on validation set\n",
    "y_pred = model.predict(X_valid)\n",
    "        \n",
    "# testing end\n",
    "end_time = time.time()\n",
    "print('testing completed:', '{:.2f}'.format(end_time - start_time), 'seconds')"
   ]
  },
  {
   "cell_type": "code",
   "execution_count": 31,
   "id": "39ef3169",
   "metadata": {
    "colab": {
     "base_uri": "https://localhost:8080/",
     "height": 542
    },
    "id": "39ef3169",
    "outputId": "28ad082f-ca2f-4507-f737-682ed8363b87"
   },
   "outputs": [
    {
     "name": "stdout",
     "output_type": "stream",
     "text": [
      "accuracy 0.9695562435500515\n",
      "recall 0.9573770491803278\n",
      "f1-score 0.9565146179674064\n",
      "roc_auc 0.966741777984627\n"
     ]
    },
    {
     "data": {
      "text/html": [
       "<div>\n",
       "<style scoped>\n",
       "    .dataframe tbody tr th:only-of-type {\n",
       "        vertical-align: middle;\n",
       "    }\n",
       "\n",
       "    .dataframe tbody tr th {\n",
       "        vertical-align: top;\n",
       "    }\n",
       "\n",
       "    .dataframe thead th {\n",
       "        text-align: right;\n",
       "    }\n",
       "</style>\n",
       "<table border=\"1\" class=\"dataframe\">\n",
       "  <thead>\n",
       "    <tr style=\"text-align: right;\">\n",
       "      <th></th>\n",
       "      <th>F1 Score</th>\n",
       "    </tr>\n",
       "  </thead>\n",
       "  <tbody>\n",
       "    <tr>\n",
       "      <th>0</th>\n",
       "      <td>0.976580</td>\n",
       "    </tr>\n",
       "    <tr>\n",
       "      <th>1</th>\n",
       "      <td>0.956515</td>\n",
       "    </tr>\n",
       "  </tbody>\n",
       "</table>\n",
       "</div>"
      ],
      "text/plain": [
       "   F1 Score\n",
       "0  0.976580\n",
       "1  0.956515"
      ]
     },
     "metadata": {},
     "output_type": "display_data"
    },
    {
     "data": {
      "image/png": "[encoded data removed]",
      "text/plain": [
       "<Figure size 800x400 with 2 Axes>"
      ]
     },
     "metadata": {},
     "output_type": "display_data"
    }
   ],
   "source": [
    "# results: XGBoost\n",
    "# accuracy\n",
    "acc = accuracy_score(y_valid, y_pred)\n",
    "results['XGBoost'].append(acc)\n",
    "print('accuracy', acc)\n",
    "\n",
    "# recall\n",
    "recall = recall_score(y_valid, y_pred)\n",
    "results['XGBoost'].append(recall)\n",
    "print('recall', recall)\n",
    "\n",
    "# f1 score\n",
    "f1 = f1_score(y_valid, y_pred)\n",
    "results['XGBoost'].append(f1)\n",
    "print('f1-score', f1)\n",
    "\n",
    "# roc_auc\n",
    "roc = roc_auc_score(y_valid, y_pred)\n",
    "results['XGBoost'].append(roc)\n",
    "print('roc_auc', roc)\n",
    "\n",
    "# class label-wise f1 score\n",
    "# 0 - Not Phishing\n",
    "# 1 - Phishing\n",
    "display(pd.DataFrame(np.asarray(f1_score(y_valid, y_pred, average=None)).T, columns=['F1 Score'], index=['0', '1']))\n",
    "\n",
    "# confusion matrix\n",
    "# plot heatmap\n",
    "plot_confusion_matrix(\n",
    "    confusion_matrix(y_valid.values.ravel(), y_pred),\n",
    "    'Confusion Matrix: XGBoost'\n",
    ")"
   ]
  },
  {
   "cell_type": "markdown",
   "id": "ff078137",
   "metadata": {},
   "source": [
    "## Model Performance Comparisons:"
   ]
  },
  {
   "cell_type": "code",
   "execution_count": 32,
   "id": "b0bafddc",
   "metadata": {},
   "outputs": [
    {
     "data": {
      "text/html": [
       "<div>\n",
       "<style scoped>\n",
       "    .dataframe tbody tr th:only-of-type {\n",
       "        vertical-align: middle;\n",
       "    }\n",
       "\n",
       "    .dataframe tbody tr th {\n",
       "        vertical-align: top;\n",
       "    }\n",
       "\n",
       "    .dataframe thead th {\n",
       "        text-align: right;\n",
       "    }\n",
       "</style>\n",
       "<table border=\"1\" class=\"dataframe\">\n",
       "  <thead>\n",
       "    <tr style=\"text-align: right;\">\n",
       "      <th></th>\n",
       "      <th>metrics</th>\n",
       "      <th>Logistic Regression</th>\n",
       "      <th>Linear SVM</th>\n",
       "      <th>Naive Bayes</th>\n",
       "      <th>XGBoost</th>\n",
       "    </tr>\n",
       "  </thead>\n",
       "  <tbody>\n",
       "    <tr>\n",
       "      <th>0</th>\n",
       "      <td>accuracy</td>\n",
       "      <td>0.935386</td>\n",
       "      <td>0.934526</td>\n",
       "      <td>0.855980</td>\n",
       "      <td>0.969556</td>\n",
       "    </tr>\n",
       "    <tr>\n",
       "      <th>1</th>\n",
       "      <td>recall</td>\n",
       "      <td>0.918033</td>\n",
       "      <td>0.921311</td>\n",
       "      <td>0.670164</td>\n",
       "      <td>0.957377</td>\n",
       "    </tr>\n",
       "    <tr>\n",
       "      <th>2</th>\n",
       "      <td>f1-score</td>\n",
       "      <td>0.908575</td>\n",
       "      <td>0.907769</td>\n",
       "      <td>0.764970</td>\n",
       "      <td>0.956515</td>\n",
       "    </tr>\n",
       "    <tr>\n",
       "      <th>3</th>\n",
       "      <td>roc_auc</td>\n",
       "      <td>0.931376</td>\n",
       "      <td>0.931472</td>\n",
       "      <td>0.813040</td>\n",
       "      <td>0.966742</td>\n",
       "    </tr>\n",
       "  </tbody>\n",
       "</table>\n",
       "</div>"
      ],
      "text/plain": [
       "    metrics  Logistic Regression  Linear SVM  Naive Bayes   XGBoost\n",
       "0  accuracy             0.935386    0.934526     0.855980  0.969556\n",
       "1    recall             0.918033    0.921311     0.670164  0.957377\n",
       "2  f1-score             0.908575    0.907769     0.764970  0.956515\n",
       "3   roc_auc             0.931376    0.931472     0.813040  0.966742"
      ]
     },
     "execution_count": 32,
     "metadata": {},
     "output_type": "execute_result"
    }
   ],
   "source": [
    "# convert the results into a dataframe\n",
    "results_df = pd.DataFrame(results)\n",
    "\n",
    "# display the results\n",
    "results_df"
   ]
  },
  {
   "cell_type": "code",
   "execution_count": 33,
   "id": "958cbdc7",
   "metadata": {},
   "outputs": [
    {
     "data": {
      "image/png": "[encoded data removed]",
      "text/plain": [
       "<Figure size 800x500 with 1 Axes>"
      ]
     },
     "metadata": {},
     "output_type": "display_data"
    }
   ],
   "source": [
    "# compare the model performance\n",
    "# plot the evaluation scores\n",
    "plt.figure(figsize=(8,5), dpi=100)\n",
    "\n",
    "chart = sns.barplot(\n",
    "    data=results_df.melt(id_vars=['metrics'], value_name='Score', var_name='Models'),\n",
    "    x='metrics',\n",
    "    y='Score',\n",
    "    hue='Models',\n",
    "    palette='Set3'\n",
    ")\n",
    "\n",
    "axes = chart.axes\n",
    "axes.set_title('Model Performance: Unimputed Dataset')\n",
    "axes.set_xlabel('Metrics')\n",
    "\n",
    "plt.legend(bbox_to_anchor=(1.01, 1), loc='upper left', borderaxespad=0)\n",
    "plt.show()"
   ]
  },
  {
   "cell_type": "code",
   "execution_count": 34,
   "id": "c4da2ef1",
   "metadata": {},
   "outputs": [
    {
     "data": {
      "text/plain": [
       "{'objective': 'binary:logistic',\n",
       " 'base_score': 0.5,\n",
       " 'booster': 'gbtree',\n",
       " 'colsample_bylevel': 1,\n",
       " 'colsample_bynode': 1,\n",
       " 'colsample_bytree': 1,\n",
       " 'eval_metric': None,\n",
       " 'gamma': 0,\n",
       " 'gpu_id': -1,\n",
       " 'grow_policy': 'depthwise',\n",
       " 'interaction_constraints': '',\n",
       " 'learning_rate': 0.300000012,\n",
       " 'max_bin': 256,\n",
       " 'max_cat_to_onehot': 4,\n",
       " 'max_delta_step': 0,\n",
       " 'max_depth': 6,\n",
       " 'max_leaves': 0,\n",
       " 'min_child_weight': 1,\n",
       " 'monotone_constraints': '()',\n",
       " 'n_jobs': 0,\n",
       " 'num_parallel_tree': 1,\n",
       " 'predictor': 'auto',\n",
       " 'random_state': 0,\n",
       " 'reg_alpha': 0,\n",
       " 'reg_lambda': 1,\n",
       " 'sampling_method': 'uniform',\n",
       " 'scale_pos_weight': 1,\n",
       " 'subsample': 1,\n",
       " 'tree_method': 'exact',\n",
       " 'validate_parameters': 1,\n",
       " 'verbosity': None}"
      ]
     },
     "execution_count": 34,
     "metadata": {},
     "output_type": "execute_result"
    }
   ],
   "source": [
    "# default params of the best performing model: XGBoost\n",
    "model.get_xgb_params()"
   ]
  }
 ],
 "metadata": {
  "colab": {
   "name": "approach_2.ipynb",
   "provenance": []
  },
  "interpreter": {
   "hash": "cd78fef2128015050713e82ca51c6520b11aee7c9ee8df750520bbbc7384cbaa"
  },
  "kernelspec": {
   "display_name": "Python 3 (ipykernel)",
   "language": "python",
   "name": "python3"
  },
  "language_info": {
   "codemirror_mode": {
    "name": "ipython",
    "version": 3
   },
   "file_extension": ".py",
   "mimetype": "text/x-python",
   "name": "python",
   "nbconvert_exporter": "python",
   "pygments_lexer": "ipython3",
   "version": "3.10.4"
  }
 },
 "nbformat": 4,
 "nbformat_minor": 5
}
